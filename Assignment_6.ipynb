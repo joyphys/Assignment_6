{
 "cells": [
  {
   "cell_type": "code",
   "execution_count": null,
   "id": "d4a6d334",
   "metadata": {},
   "outputs": [],
   "source": [
    "1. What are escape characters, and how do you use them?\n",
    "\n",
    "To insert a character that is illegal in a string, we use escape characters. \n",
    "An escape character is a backslash followed by a character that we wish to insert.\n",
    "\n",
    "For example, if we wish to insert double quotes inside a string that is enclosed within double quotes, we use\n",
    "\\ folowed by \".\n",
    "print(\"hello, this is a \\\"new norm \\\" \")\n"
   ]
  },
  {
   "cell_type": "code",
   "execution_count": null,
   "id": "75f0d260",
   "metadata": {},
   "outputs": [],
   "source": [
    "2. What do the escape characters n and t stand for?\n",
    "\n",
    "\\n stands for newline and \\t stamds for tab."
   ]
  },
  {
   "cell_type": "code",
   "execution_count": null,
   "id": "529cddbd",
   "metadata": {},
   "outputs": [],
   "source": [
    "3. What is the way to include backslash characters in a string?\n",
    "\n",
    "TO insert a backslash inside a string, it need to follow another backslash.\n",
    "\n",
    "text=\"this is a new method \\\\ this is a new approach\""
   ]
  },
  {
   "cell_type": "code",
   "execution_count": null,
   "id": "5cb2e74e",
   "metadata": {},
   "outputs": [],
   "source": [
    "4. The string \"Howl's Moving Castle\" is a correct value. \n",
    "Why isn't the single quote character in the word Howl's not escaped a problem?\n",
    "\n"
   ]
  },
  {
   "cell_type": "code",
   "execution_count": 21,
   "id": "b0679c3c",
   "metadata": {},
   "outputs": [
    {
     "data": {
      "text/plain": [
       "\"Howl's Moving Castle\""
      ]
     },
     "execution_count": 21,
     "metadata": {},
     "output_type": "execute_result"
    }
   ],
   "source": [
    "5. How do you write a string of newlines if you don't want to use the n character?\n",
    "\n",
    "The alternative approach is multiline strings in which we can divide the string itself into multiple lines. \n",
    "These strings should be enclodsed within 3 double quotes or 3 single quotes.\n",
    "\n",
    "t=\"\"\"this is hers\n",
    "    it should belong to her\"\"\"\n",
    "\n",
    "print(t)\n",
    "\n",
    "output:\n",
    "    this is hers\n",
    "    it should belong to her"
   ]
  },
  {
   "cell_type": "code",
   "execution_count": 27,
   "id": "4bc33fa3",
   "metadata": {},
   "outputs": [],
   "source": [
    "6. What are the values of the given expressions?\n",
    "'Hello, world!'[1]    :'e' \n",
    "'Hello, world!'[0:5]  :'Hello,'\n",
    "'Hello, world!'[:5]   :'Hello,'\n",
    "'Hello, world!'[3:]   :'lo, world!'\n"
   ]
  },
  {
   "cell_type": "code",
   "execution_count": 32,
   "id": "1bdf593e",
   "metadata": {},
   "outputs": [
    {
     "data": {
      "text/plain": [
       "'lo, world!'"
      ]
     },
     "execution_count": 32,
     "metadata": {},
     "output_type": "execute_result"
    }
   ],
   "source": [
    "7. What are the values of the following expressions?\n",
    "'Hello'.upper()             :'HELLO'\n",
    "'Hello'.upper().isupper()   : True\n",
    "'Hello'.upper().lower()     :'hello'\n"
   ]
  },
  {
   "cell_type": "code",
   "execution_count": 36,
   "id": "9c4f0677",
   "metadata": {},
   "outputs": [
    {
     "data": {
      "text/plain": [
       "'hello'"
      ]
     },
     "execution_count": 36,
     "metadata": {},
     "output_type": "execute_result"
    }
   ],
   "source": [
    "8. What are the values of the following expressions?\n",
    "'Remember, remember, the fifth of July.'.split()  :['Remember,', 'remember,', 'the', 'fifth', 'of', 'July.']\n",
    "'-'.join('There can only one.'.split())           :'There-can-only-one.\n"
   ]
  },
  {
   "cell_type": "code",
   "execution_count": null,
   "id": "7c0244e2",
   "metadata": {},
   "outputs": [],
   "source": [
    "9. What are the methods for right-justifying, left-justifying, and centering a string?\n",
    "\n",
    "\n",
    "right-justify : print(str.rjust(width))\n",
    "                print('string'.rjust(40,' '))\n",
    "left-justify  : print(str.ljust(width))\n",
    "                print('string'.rjust(40,' '))\n",
    "center        : print(str.center(width))\n",
    "                print('string'.center(40,' '))"
   ]
  },
  {
   "cell_type": "code",
   "execution_count": 70,
   "id": "ebdea3e3",
   "metadata": {},
   "outputs": [],
   "source": [
    "10. What is the best way to remove whitespace characters from the start or end?\n",
    "\n",
    "use of strip() removes whitespace characters from the  beginning as well as the end of a string.\n",
    "string.strip() \n",
    "\n",
    "t=\" string \"\n",
    "t.strip()\n",
    "\n",
    "output: 'string'"
   ]
  }
 ],
 "metadata": {
  "kernelspec": {
   "display_name": "Python 3 (ipykernel)",
   "language": "python",
   "name": "python3"
  },
  "language_info": {
   "codemirror_mode": {
    "name": "ipython",
    "version": 3
   },
   "file_extension": ".py",
   "mimetype": "text/x-python",
   "name": "python",
   "nbconvert_exporter": "python",
   "pygments_lexer": "ipython3",
   "version": "3.9.7"
  }
 },
 "nbformat": 4,
 "nbformat_minor": 5
}
